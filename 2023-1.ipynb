{
 "cells": [
  {
   "cell_type": "code",
   "execution_count": 1,
   "id": "212fc48f",
   "metadata": {},
   "outputs": [
    {
     "name": "stdout",
     "output_type": "stream",
     "text": [
      "The Zen of Python, by Tim Peters\n",
      "\n",
      "Beautiful is better than ugly.\n",
      "Explicit is better than implicit.\n",
      "Simple is better than complex.\n",
      "Complex is better than complicated.\n",
      "Flat is better than nested.\n",
      "Sparse is better than dense.\n",
      "Readability counts.\n",
      "Special cases aren't special enough to break the rules.\n",
      "Although practicality beats purity.\n",
      "Errors should never pass silently.\n",
      "Unless explicitly silenced.\n",
      "In the face of ambiguity, refuse the temptation to guess.\n",
      "There should be one-- and preferably only one --obvious way to do it.\n",
      "Although that way may not be obvious at first unless you're Dutch.\n",
      "Now is better than never.\n",
      "Although never is often better than *right* now.\n",
      "If the implementation is hard to explain, it's a bad idea.\n",
      "If the implementation is easy to explain, it may be a good idea.\n",
      "Namespaces are one honking great idea -- let's do more of those!\n"
     ]
    }
   ],
   "source": [
    "import this"
   ]
  },
  {
   "cell_type": "code",
   "execution_count": 2,
   "id": "fd078283",
   "metadata": {},
   "outputs": [
    {
     "name": "stderr",
     "output_type": "stream",
     "text": [
      "/Users/yuri/miniconda3/envs/ds_study/lib/python3.8/site-packages/IPython/core/events.py:89: UserWarning: Glyph 45936 (\\N{HANGUL SYLLABLE DE}) missing from current font.\n",
      "  func(*args, **kwargs)\n",
      "/Users/yuri/miniconda3/envs/ds_study/lib/python3.8/site-packages/IPython/core/events.py:89: UserWarning: Glyph 51060 (\\N{HANGUL SYLLABLE I}) missing from current font.\n",
      "  func(*args, **kwargs)\n",
      "/Users/yuri/miniconda3/envs/ds_study/lib/python3.8/site-packages/IPython/core/events.py:89: UserWarning: Glyph 53552 (\\N{HANGUL SYLLABLE TEO}) missing from current font.\n",
      "  func(*args, **kwargs)\n",
      "/Users/yuri/miniconda3/envs/ds_study/lib/python3.8/site-packages/IPython/core/events.py:89: UserWarning: Glyph 49324 (\\N{HANGUL SYLLABLE SA}) missing from current font.\n",
      "  func(*args, **kwargs)\n",
      "/Users/yuri/miniconda3/envs/ds_study/lib/python3.8/site-packages/IPython/core/events.py:89: UserWarning: Glyph 50616 (\\N{HANGUL SYLLABLE EON}) missing from current font.\n",
      "  func(*args, **kwargs)\n",
      "/Users/yuri/miniconda3/envs/ds_study/lib/python3.8/site-packages/IPython/core/events.py:89: UserWarning: Glyph 49828 (\\N{HANGUL SYLLABLE SEU}) missing from current font.\n",
      "  func(*args, **kwargs)\n",
      "/Users/yuri/miniconda3/envs/ds_study/lib/python3.8/site-packages/IPython/core/pylabtools.py:152: UserWarning: Glyph 45936 (\\N{HANGUL SYLLABLE DE}) missing from current font.\n",
      "  fig.canvas.print_figure(bytes_io, **kw)\n",
      "/Users/yuri/miniconda3/envs/ds_study/lib/python3.8/site-packages/IPython/core/pylabtools.py:152: UserWarning: Glyph 51060 (\\N{HANGUL SYLLABLE I}) missing from current font.\n",
      "  fig.canvas.print_figure(bytes_io, **kw)\n",
      "/Users/yuri/miniconda3/envs/ds_study/lib/python3.8/site-packages/IPython/core/pylabtools.py:152: UserWarning: Glyph 53552 (\\N{HANGUL SYLLABLE TEO}) missing from current font.\n",
      "  fig.canvas.print_figure(bytes_io, **kw)\n",
      "/Users/yuri/miniconda3/envs/ds_study/lib/python3.8/site-packages/IPython/core/pylabtools.py:152: UserWarning: Glyph 49324 (\\N{HANGUL SYLLABLE SA}) missing from current font.\n",
      "  fig.canvas.print_figure(bytes_io, **kw)\n",
      "/Users/yuri/miniconda3/envs/ds_study/lib/python3.8/site-packages/IPython/core/pylabtools.py:152: UserWarning: Glyph 50616 (\\N{HANGUL SYLLABLE EON}) missing from current font.\n",
      "  fig.canvas.print_figure(bytes_io, **kw)\n",
      "/Users/yuri/miniconda3/envs/ds_study/lib/python3.8/site-packages/IPython/core/pylabtools.py:152: UserWarning: Glyph 49828 (\\N{HANGUL SYLLABLE SEU}) missing from current font.\n",
      "  fig.canvas.print_figure(bytes_io, **kw)\n"
     ]
    },
    {
     "data": {
      "image/png": "[encoded data removed]",
      "text/plain": [
       "<Figure size 640x480 with 1 Axes>"
      ]
     },
     "metadata": {},
     "output_type": "display_data"
    }
   ],
   "source": [
    "import matplotlib.pyplot as plt\n",
    "%matplotlib inline\n",
    "plt.title('데이터사이언스');"
   ]
  },
  {
   "cell_type": "code",
   "execution_count": 5,
   "id": "814b1b32",
   "metadata": {},
   "outputs": [
    {
     "data": {
      "text/plain": [
       "'Arial Unicode MS'"
      ]
     },
     "execution_count": 5,
     "metadata": {},
     "output_type": "execute_result"
    }
   ],
   "source": [
    "from matplotlib import font_manager\n",
    "f_path = '/Library/Fonts/Arial Unicode.ttf'\n",
    "font_manager.FontProperties(fname=f_path).get_name()"
   ]
  },
  {
   "cell_type": "code",
   "execution_count": 6,
   "id": "756f71d7",
   "metadata": {},
   "outputs": [],
   "source": [
    "from matplotlib import rc\n",
    "rc('font', family = 'Arial unicode Ms')"
   ]
  },
  {
   "cell_type": "code",
   "execution_count": 7,
   "id": "ee13b551",
   "metadata": {},
   "outputs": [
    {
     "data": {
      "image/png": "[encoded data removed]",
      "text/plain": [
       "<Figure size 640x480 with 1 Axes>"
      ]
     },
     "metadata": {},
     "output_type": "display_data"
    }
   ],
   "source": [
    "import matplotlib.pyplot as plt\n",
    "%matplotlib inline\n",
    "plt.title('데이터사이언스');\n",
    "rc('font', family = 'Arial unicode Ms')"
   ]
  },
  {
   "cell_type": "code",
   "execution_count": null,
   "id": "27adfdec",
   "metadata": {},
   "outputs": [],
   "source": []
  }
 ],
 "metadata": {
  "kernelspec": {
   "display_name": "Python 3 (ipykernel)",
   "language": "python",
   "name": "python3"
  },
  "language_info": {
   "codemirror_mode": {
    "name": "ipython",
    "version": 3
   },
   "file_extension": ".py",
   "mimetype": "text/x-python",
   "name": "python",
   "nbconvert_exporter": "python",
   "pygments_lexer": "ipython3",
   "version": "3.8.17"
  }
 },
 "nbformat": 4,
 "nbformat_minor": 5
}
