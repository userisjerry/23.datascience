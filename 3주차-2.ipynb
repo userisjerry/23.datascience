{
 "cells": [
  {
   "cell_type": "code",
   "execution_count": null,
   "id": "0ca1e247",
   "metadata": {},
   "outputs": [],
   "source": [
    "import pandas as pd\n",
    "\n",
    "import numpy as np\n",
    "\n",
    "import seaborn as sns\n",
    "\n",
    "import matplotlib.pyplot as plt\n",
    "\n",
    "\n",
    "%matplotlib inline"
   ]
  },
  {
   "cell_type": "code",
   "execution_count": null,
   "id": "7783c592",
   "metadata": {},
   "outputs": [],
   "source": [
    "df=pd.read_csv('data/국민건강보험공단_건강검진정보_20211231.csv')\n",
    "# encoding='cp949'\n",
    "df.shape"
   ]
  },
  {
   "cell_type": "markdown",
   "id": "8e136783",
   "metadata": {},
   "source": [
    "# 11.1 히스토그램\n",
    "* 판다스의 info 기능을 통해 대부분 수치 데이터로 이루어 진것을 확인할 수 있었다\n",
    "* 히스토그램을 사용하면 수치데이터를 bin의 갯수만큼 그룹화해서 도수분포표를 만들고 \n",
    "* 그 결과를 시각화한다\n",
    "* 이 데이터에는 수치데이터가 많기 때문에 판다스의 hist를 사용해서 히스토그램을 그린다"
   ]
  },
  {
   "cell_type": "code",
   "execution_count": null,
   "id": "b0953496",
   "metadata": {},
   "outputs": [],
   "source": [
    "# 전체 데이터에 대한 히스토그램 출력\n",
    "\n",
    "df.info()\n",
    "h = df.hist(figsize=(12,12))"
   ]
  },
  {
   "cell_type": "markdown",
   "id": "5ff612b3",
   "metadata": {},
   "source": [
    "# 11.2 슬라이싱을 사용해 히스토그램 그리기\n",
    "* 슬라이싱 기능을 사용해서 데이터를 나누어 그린다\n",
    "* 슬라이싱 사용시 iloc를 활용하면 인덱스의 순서대로 슬라이싱\n",
    "* iloc[행, 열]순으로 인덱스를 서주면 해당 인덱스만 불러오며\n",
    "* 전체 데이터를 가져오고자 [:,:]\n",
    "* 슬라이싱을 해주는 대괄호 안의 콜론 앞뒤에 숫자를 써주게 되면\n",
    "* 해당 시작인덱스: 끝나는 인덱스(+1)를 지정할 수 잇다."
   ]
  },
  {
   "cell_type": "code",
   "execution_count": null,
   "id": "49ec1edd",
   "metadata": {},
   "outputs": [],
   "source": [
    "# 슬라이싱 사용해 앞에서 12개 컬럼\n",
    "# 데이터로 히스토그램을 그려\n",
    "# [행, 열]\n",
    "\n",
    "h = df.iloc[:,:12].hist(figsize=(12,12))"
   ]
  },
  {
   "cell_type": "code",
   "execution_count": null,
   "id": "369f05c2",
   "metadata": {},
   "outputs": [],
   "source": [
    "# 슬라이싱 사용해\n",
    "# 앞에서 12~23까지 컬럼에 대한 데이터\n",
    "# 히스토그램\n",
    "\n",
    "h = df.iloc[:,12:24].hist(figsize=(12,12), bins=100)"
   ]
  },
  {
   "cell_type": "code",
   "execution_count": null,
   "id": "1906a485",
   "metadata": {},
   "outputs": [],
   "source": [
    "# 슬라이싱 사용해\n",
    "# 앞에서 24~까지 컬럼에 대한 데이터\n",
    "# 히스토그램\n",
    "\n",
    "h = df.iloc[:,24:].hist(figsize=(12,12), bins=10)"
   ]
  },
  {
   "cell_type": "markdown",
   "id": "97201db0",
   "metadata": {},
   "source": [
    "# 12 샘플데이터 추출하기\n",
    "* seaborn의 그래프는 내부에서 수학적 연산이 되기 때문에\n",
    "* 데이터가 많은면 소도가 오래걸린다\n",
    "* 따라서 전체 데이터를 사용하면 너무 느리기 때문에\n",
    "* 일부만 샘플링해서 사용"
   ]
  },
  {
   "cell_type": "code",
   "execution_count": null,
   "id": "7b108510",
   "metadata": {},
   "outputs": [],
   "source": [
    "# df.sample을 통해 일부 데이터만 샘플데이터를 추출\n",
    "# randon_state를 사용해 샘플링 되는 값을 고정\n",
    "# 실험을 통제하기 위해 rando_state를 고정\n",
    "# 여기에서는 1을 사용\n",
    "# 이 값은 높든 낮ㄷ느 상관없이 값을 고정시키는 역할\n",
    "\n",
    "df_sample = df.sample(1000,random_state=1)\n",
    "df_sample.shape"
   ]
  },
  {
   "cell_type": "markdown",
   "id": "8e399919",
   "metadata": {},
   "source": [
    "# 13.o 데이터 시각화 도구 seaborn사용하기\n",
    "* https://seaborn.pydata.org/\n",
    "* seaborn은 https://matplolib.org/"
   ]
  },
  {
   "cell_type": "markdown",
   "id": "b0763b89",
   "metadata": {},
   "source": [
    "# 14 범주형(카테고리) 데이터 시각화\n",
    "* countplot은 범주형 데이터의 수를 더한 값을 그래프로 표현\n",
    "* value_counts로 구한 값을 시각화한다"
   ]
  },
  {
   "cell_type": "markdown",
   "id": "750821ba",
   "metadata": {},
   "source": [
    "# 14.1 countplot- 음주여부"
   ]
  },
  {
   "cell_type": "code",
   "execution_count": null,
   "id": "4dd77a39",
   "metadata": {},
   "outputs": [],
   "source": [
    "df.columns"
   ]
  },
  {
   "cell_type": "code",
   "execution_count": null,
   "id": "bb87df1f",
   "metadata": {},
   "outputs": [],
   "source": [
    "# 음주여부에 따른 countplot\n",
    "\n",
    "# df['SMK_STAT_TYPE_CD'].value_counts().plot()\n",
    "df['SMK_STAT_TYPE_CD'].value_counts().plot.bar()"
   ]
  },
  {
   "cell_type": "code",
   "execution_count": null,
   "id": "9c96fa9e",
   "metadata": {},
   "outputs": [],
   "source": [
    "import numpy as np\n",
    "import pandas as pd\n",
    "import matplotlib.pyplot as plt\n",
    "import seaborn as sns\n",
    "\n",
    "\n",
    "%matplotlib inline\n",
    "\n",
    "\n"
   ]
  },
  {
   "cell_type": "code",
   "execution_count": null,
   "id": "9b8c0e16",
   "metadata": {},
   "outputs": [],
   "source": [
    "sns.countplot(x='SMK_STAT_TYPE_CD', data = df)"
   ]
  },
  {
   "cell_type": "markdown",
   "id": "ce54d8e3",
   "metadata": {},
   "source": [
    "# 14.2 hue옵션 사용하기\n"
   ]
  },
  {
   "cell_type": "code",
   "execution_count": null,
   "id": "de18d028",
   "metadata": {},
   "outputs": [],
   "source": [
    "# 음주여부에 따른 countplot을 그리고 hue를 사용해 성별코드로 색상을 구분해 그린다\n",
    "# 여기에서 hue는 포토샵에 있는hue 메뉴를 떠올리면 된다'\n",
    "# 색상을 의미\n",
    "# 또,seaborn 에서 제공하는 폰트 설정을 사용할 수 있다\n",
    "# mac\n",
    "sns.set(font_scale=1.5, font='AppleGothic')\n",
    "# window\n",
    "#sns.set(font_scale=1., font='MalgunGothic')\n",
    "sns.countplot(data = df, x='SMK_STAT_TYPE_CD', hue='SEX')"
   ]
  },
  {
   "cell_type": "code",
   "execution_count": null,
   "id": "9663b190",
   "metadata": {},
   "outputs": [],
   "source": [
    "# countplot으로 연령대별 음주여부를 본다\n",
    "# hue를 사용해 다른 색상으로 표현\n",
    "\n",
    "sns.countplot(data = df, x='AGE_GROUP', hue='SMK_STAT_TYPE_CD')\n"
   ]
  },
  {
   "cell_type": "code",
   "execution_count": null,
   "id": "39209365",
   "metadata": {},
   "outputs": [],
   "source": [
    "df.columns"
   ]
  },
  {
   "cell_type": "markdown",
   "id": "5973d7e7",
   "metadata": {},
   "source": [
    "# 14.3 countplot 키와 몸무게\n",
    "* 키와 몸무게는 연속형 데이터\n",
    "* 하지만 이 데이터는 키 5 체중 5 단위로 되어 있더\n",
    "* 이렇게 특정 범위로 묶게되면 연속형 데이터라기보다\n",
    "* 범주형 데이터라고 볼수이ㅆ다"
   ]
  },
  {
   "cell_type": "code",
   "execution_count": null,
   "id": "e034656c",
   "metadata": {},
   "outputs": [],
   "source": [
    "# coutplot으로 키를 본다\n",
    "plt.figure(figsize=(15,4))\n",
    "sns.countplot(data=df, x='HEIGHT')\n"
   ]
  },
  {
   "cell_type": "code",
   "execution_count": null,
   "id": "6beb393b",
   "metadata": {},
   "outputs": [],
   "source": [
    "# countplot으로 체중\n",
    "plt.figure(figsize=(15,4))\n",
    "sns.countplot(data=df, x='WEIGHT')\n"
   ]
  },
  {
   "cell_type": "code",
   "execution_count": null,
   "id": "f0dfc833",
   "metadata": {},
   "outputs": [],
   "source": [
    "# countplot으로 신장\n",
    "# 성별에 따른 키차이\n",
    "\n",
    "plt.figure(figsize=(15,4))\n",
    "sns.countplot(data=df, x='HEIGHT', hue='SEX')\n"
   ]
  },
  {
   "cell_type": "code",
   "execution_count": null,
   "id": "f371f502",
   "metadata": {},
   "outputs": [],
   "source": [
    "# 성별에 따른 체중 차이\n",
    "\n",
    "plt.figure(figsize=(15,4))\n",
    "sns.countplot(data=df, x='WEIGHT', hue='SEX')"
   ]
  },
  {
   "cell_type": "markdown",
   "id": "94d2cd1a",
   "metadata": {},
   "source": [
    "# 14.4 barplot 수치형, 범주형 데이터 시각화"
   ]
  },
  {
   "cell_type": "code",
   "execution_count": null,
   "id": "3ff54138",
   "metadata": {},
   "outputs": [],
   "source": [
    "# 연령대코드와 총 콜레스테롤을 본다\n",
    "# hue로 색상을 다르게 표현 가능\n",
    "# 음주여부를 함게 본다\n",
    "\n",
    "sns.barplot(data=df_sample, x='AGE_GROUP', y='TOT_CHOLE', hue='DRK_YN')\n"
   ]
  },
  {
   "cell_type": "code",
   "execution_count": null,
   "id": "7c763b9e",
   "metadata": {},
   "outputs": [],
   "source": [
    "df.columns"
   ]
  },
  {
   "cell_type": "code",
   "execution_count": null,
   "id": "f0b9e610",
   "metadata": {},
   "outputs": [],
   "source": [
    "#연령대코드와 통 콜레스테롤을본다\n",
    "# 콜레스테롤과 연령대코드 를 흡연상태에 다라\n",
    "# barplot\n",
    "plt.figure(figsize=(15,4))\n",
    "sns.barplot(data=df_sample, x='AGE_GROUP', y='TOT_CHOLE', hue='SMK_STAT_TYPE_CD')\n"
   ]
  },
  {
   "cell_type": "code",
   "execution_count": null,
   "id": "236e75d7",
   "metadata": {},
   "outputs": [],
   "source": [
    "# 트피글리세라이드에 따른 연령\n",
    "# 을 음주여부에 따라\n",
    "\n",
    "sns.barplot(data=df_sample, x='AGE_GROUP', y='TRIGLYCERIDE', hue='SMK_STAT_TYPE_CD',ci=None)\n",
    "\n"
   ]
  },
  {
   "cell_type": "code",
   "execution_count": null,
   "id": "550bc67b",
   "metadata": {},
   "outputs": [],
   "source": [
    "# 음주여부와 체중을\n",
    "# 성별에 따라\n",
    "\n",
    "sns.barplot(data=df_sample, x='AGE_GROUP', y='HEIGHT', hue='SEX',ci=None)\n"
   ]
  },
  {
   "cell_type": "code",
   "execution_count": null,
   "id": "9f6c3391",
   "metadata": {},
   "outputs": [],
   "source": [
    "# 연령대에 따른 쳊ㅇ을\n",
    "# 음주에 따라 barplot\n",
    "\n",
    "sns.barplot(data=df_sample, x='AGE_GROUP', y='WEIGHT', hue='DRK_YN',ci=None)\n"
   ]
  },
  {
   "cell_type": "code",
   "execution_count": null,
   "id": "0c2550e3",
   "metadata": {},
   "outputs": [],
   "source": [
    "## ci=None 하면 짝대기 같은게 없어짐\n",
    "## 'sd' 도 있고 95도 있고"
   ]
  },
  {
   "cell_type": "markdown",
   "id": "bbd08729",
   "metadata": {},
   "source": [
    "# 14.5 lineplot and pointplot"
   ]
  },
  {
   "cell_type": "code",
   "execution_count": null,
   "id": "15b29da8",
   "metadata": {},
   "outputs": [],
   "source": [
    "# 연령대에 따른 체중을\n",
    "# 성별에 따라 lineplot\n",
    "plt.figure(figsize=(15,4))\n",
    "sns.lineplot(data=df_sample, x='AGE_GROUP', y='WEIGHT', hue='SEX',ci=None)\n"
   ]
  },
  {
   "cell_type": "code",
   "execution_count": null,
   "id": "f228517f",
   "metadata": {},
   "outputs": [],
   "source": [
    "# ci없을ㄸ\n",
    "# sample이라서 여백이생긴다\n",
    "sns.lineplot(data=df_sample, x='AGE_GROUP', y='WEIGHT', hue='SEX')"
   ]
  },
  {
   "cell_type": "code",
   "execution_count": null,
   "id": "56ce6f79",
   "metadata": {},
   "outputs": [],
   "source": [
    "# data sample아닐때\n",
    "sns.lineplot(data=df, x='AGE_GROUP', y='WEIGHT', hue='SEX',ci=None)"
   ]
  },
  {
   "cell_type": "code",
   "execution_count": null,
   "id": "891f8ddf",
   "metadata": {},
   "outputs": [],
   "source": [
    "# 연령대에 따른 체중을\n",
    "# 음주여부에 따라\n",
    "# point, bar\n",
    "plt.figure(figsize=(15,4))\n",
    "sns.barplot(data=df_sample, x='AGE_GROUP', y='HEIGHT', hue='DRK_YN', ci='sd')\n",
    "sns.pointplot(data=df_sample, x='AGE_GROUP', y='HEIGHT', hue='DRK_YN', ci='sd')"
   ]
  },
  {
   "cell_type": "code",
   "execution_count": null,
   "id": "02740d50",
   "metadata": {},
   "outputs": [],
   "source": []
  },
  {
   "cell_type": "code",
   "execution_count": null,
   "id": "56b2fccc",
   "metadata": {},
   "outputs": [],
   "source": [
    "df.columns"
   ]
  },
  {
   "cell_type": "markdown",
   "id": "43ecc9f1",
   "metadata": {},
   "source": [
    "# 14.6 boxplot\n",
    "* 가공하지 안은 자료 그대로를 이용하여 그린것이 아니라\n",
    "* 자료로부터 얻어낸 통계량인 5가지 요약 수치로 그린다\n",
    "* 5가지 요약 수치란 \n",
    "* 기술통계학에서 자료의 정보를 알려주는 아래의 다섯가지 수치를 의미한다\n",
    "\n",
    "* 최솟값, 제1사분위수, 제2사분위수()=중앙값, 제3사분위수() 최댓값\n"
   ]
  },
  {
   "cell_type": "code",
   "execution_count": null,
   "id": "f06668e1",
   "metadata": {},
   "outputs": [],
   "source": [
    "df.columns"
   ]
  },
  {
   "cell_type": "code",
   "execution_count": null,
   "id": "0c24f578",
   "metadata": {},
   "outputs": [],
   "source": [
    "# boxplot으로 신장에 따른\n",
    "# 체중을 그리며\n",
    "# 성별코드에 따라 다른 색상\n",
    "plt.figure(figsize=(15,4))\n",
    "sns.boxplot(data=df, x='HEIGHT', y='WEIGHT', hue='SEX')\n",
    "\n"
   ]
  },
  {
   "cell_type": "markdown",
   "id": "b0f74ae8",
   "metadata": {},
   "source": [
    "# 14.7 violinplot"
   ]
  },
  {
   "cell_type": "code",
   "execution_count": null,
   "id": "87ff720e",
   "metadata": {},
   "outputs": [],
   "source": [
    "# violinplot 신장에따라\n",
    "# 체중을 그리며\n",
    "# 음주여부에따라 색상\n",
    "\n",
    "plt.figure(figsize=(15,4))\n",
    "sns.violinplot(data=df, x='HEIGHT', y='WEIGHT', hue='DRK_YN')\n",
    "sns.violinplot(data=df_sample, x='HEIGHT', y='WEIGHT', hue='DRK_YN')\n"
   ]
  },
  {
   "cell_type": "code",
   "execution_count": null,
   "id": "db1c7541",
   "metadata": {},
   "outputs": [],
   "source": [
    "# violinplot의 split기능을 사용\n",
    "\n",
    "plt.figure(figsize=(15,4))\n",
    "\n",
    "sns.violinplot(data=df_sample, x='HEIGHT', y='WEIGHT', hue='DRK_YN', split =True)\n",
    "\n"
   ]
  },
  {
   "cell_type": "code",
   "execution_count": null,
   "id": "6f3ebd24",
   "metadata": {},
   "outputs": [],
   "source": [
    "# violinplot 연령대코드에 따른\n",
    "# 혈색소\n",
    "# 음주여부에 따른 색상\n",
    "\n",
    "\n",
    "plt.figure(figsize=(15,4))\n",
    "sns.violinplot(data=df, x='AGE_GROUP', y='HMG', hue='DRK_YN')\n",
    "\n"
   ]
  },
  {
   "cell_type": "markdown",
   "id": "c07b7d44",
   "metadata": {},
   "source": [
    "# 14.8 swarm plot\n",
    "* 범주형 데이터를 산점도로 시각화하고자"
   ]
  },
  {
   "cell_type": "code",
   "execution_count": null,
   "id": "e2705556",
   "metadata": {},
   "outputs": [],
   "source": [
    "# swarmplot으로 신장에따른\n",
    "# 체중을 그리며\n",
    "# 음주여부에 따른 색상\n",
    "\n",
    "# 점을 하나씩 찍기 때문에 오래걸리는 코드는 전체로 그려보기 전에 일부만 가져와 그려본다\n",
    "\n",
    "plt.figure(figsize=(15,4))\n",
    "sns.swarmplot(data=df_sample, x='HEIGHT', y='WEIGHT', hue='DRK_YN')\n"
   ]
  },
  {
   "cell_type": "code",
   "execution_count": null,
   "id": "ffe27868",
   "metadata": {},
   "outputs": [],
   "source": [
    "# swarmplot으로 연령대코드에 따른\n",
    "# 음주여부\n",
    "# 성별코드로 색상\n",
    "# 점을 하나식 찍기 때문에 오래걸리는 코드느 전체로 그려보기 전에 일부만 가져와 그려본다\n",
    "\n",
    "plt.figure(figsize=(15,4))\n",
    "sns.swarmplot(data=df_sample, x='AGE_GROUP', y='DRK_YN', hue='SEX')\n"
   ]
  },
  {
   "cell_type": "code",
   "execution_count": null,
   "id": "d476089b",
   "metadata": {},
   "outputs": [],
   "source": [
    "# lmplot으로 그리기\n",
    "sns.lmplot(data=df_sample, x='AGE_GROUP', y='HMG', hue='DRK_YN', col='SEX')\n",
    "\n"
   ]
  },
  {
   "cell_type": "code",
   "execution_count": null,
   "id": "e27ea632",
   "metadata": {},
   "outputs": [],
   "source": []
  },
  {
   "cell_type": "code",
   "execution_count": null,
   "id": "eb52ee73",
   "metadata": {},
   "outputs": [],
   "source": []
  },
  {
   "cell_type": "code",
   "execution_count": null,
   "id": "4fcaa73e",
   "metadata": {},
   "outputs": [],
   "source": []
  },
  {
   "cell_type": "code",
   "execution_count": null,
   "id": "17e75119",
   "metadata": {},
   "outputs": [],
   "source": []
  },
  {
   "cell_type": "code",
   "execution_count": null,
   "id": "a25f9f62",
   "metadata": {},
   "outputs": [],
   "source": []
  },
  {
   "cell_type": "code",
   "execution_count": null,
   "id": "5c485649",
   "metadata": {},
   "outputs": [],
   "source": []
  },
  {
   "cell_type": "code",
   "execution_count": null,
   "id": "14952d92",
   "metadata": {},
   "outputs": [],
   "source": []
  },
  {
   "cell_type": "code",
   "execution_count": null,
   "id": "5ecd0564",
   "metadata": {},
   "outputs": [],
   "source": []
  },
  {
   "cell_type": "code",
   "execution_count": null,
   "id": "5539d510",
   "metadata": {},
   "outputs": [],
   "source": []
  },
  {
   "cell_type": "code",
   "execution_count": null,
   "id": "5cdb7779",
   "metadata": {},
   "outputs": [],
   "source": []
  }
 ],
 "metadata": {
  "kernelspec": {
   "display_name": "Python 3 (ipykernel)",
   "language": "python",
   "name": "python3"
  },
  "language_info": {
   "codemirror_mode": {
    "name": "ipython",
    "version": 3
   },
   "file_extension": ".py",
   "mimetype": "text/x-python",
   "name": "python",
   "nbconvert_exporter": "python",
   "pygments_lexer": "ipython3",
   "version": "3.11.5"
  }
 },
 "nbformat": 4,
 "nbformat_minor": 5
}
